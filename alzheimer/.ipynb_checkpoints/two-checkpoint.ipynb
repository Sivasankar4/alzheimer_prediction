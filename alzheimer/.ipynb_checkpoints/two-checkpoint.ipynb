{
 "cells": [
  {
   "cell_type": "code",
   "execution_count": 1,
   "id": "def48093",
   "metadata": {},
   "outputs": [],
   "source": [
    "\n",
    "import tensorflow as tf \n",
    "classifierLoad = tf.keras.models.load_model('model2.h5')\n",
    "\n",
    "import numpy as np\n",
    "from keras_preprocessing import image\n",
    "import easygui"
   ]
  },
  {
   "cell_type": "code",
   "execution_count": 5,
   "id": "c7472661",
   "metadata": {},
   "outputs": [
    {
     "name": "stdout",
     "output_type": "stream",
     "text": [
      "1/1 [==============================] - 0s 49ms/step\n",
      "NonDemented\n"
     ]
    }
   ],
   "source": [
    "image11 = easygui.fileopenbox()\n",
    "test_image = image.load_img(image11, target_size = (200,200))\n",
    "#test_image = image.img_to_array(test_image)\n",
    "test_image = np.expand_dims(test_image, axis=0)\n",
    "result = classifierLoad.predict(test_image)\n",
    "if result[0][1] == 1:\n",
    "    print(\"NonDemented\")\n",
    "elif result[0][0] == 1:\n",
    "    print(\"MildDemented\")\n",
    "elif result[0][2] == 1:\n",
    "    print(\"VeryMildDementedd\")\n",
    "elif result[0][3] == 1:\n",
    "    print(\"ModerateDemented\")"
   ]
  },
  {
   "cell_type": "code",
   "execution_count": null,
   "id": "90d0a4f5",
   "metadata": {},
   "outputs": [],
   "source": []
  },
  {
   "cell_type": "code",
   "execution_count": null,
   "id": "3354afa5",
   "metadata": {},
   "outputs": [],
   "source": []
  }
 ],
 "metadata": {
  "kernelspec": {
   "display_name": "Python 3 (ipykernel)",
   "language": "python",
   "name": "python3"
  },
  "language_info": {
   "codemirror_mode": {
    "name": "ipython",
    "version": 3
   },
   "file_extension": ".py",
   "mimetype": "text/x-python",
   "name": "python",
   "nbconvert_exporter": "python",
   "pygments_lexer": "ipython3",
   "version": "3.9.13"
  }
 },
 "nbformat": 4,
 "nbformat_minor": 5
}
