{
 "cells": [
  {
   "cell_type": "code",
   "execution_count": 8,
   "id": "def48093",
   "metadata": {},
   "outputs": [],
   "source": [
    "\n",
    "import tensorflow as tf \n",
    "classifierLoad = tf.keras.models.load_model('model2.h5')\n",
    "\n",
    "import numpy as np\n",
    "from keras_preprocessing import image\n",
    "import easygui"
   ]
  },
  {
   "cell_type": "code",
   "execution_count": 9,
   "id": "c7472661",
   "metadata": {},
   "outputs": [
    {
     "name": "stdout",
     "output_type": "stream",
     "text": [
      "1/1 [==============================] - 0s 127ms/step\n",
      "MildDemented\n"
     ]
    }
   ],
   "source": [
    "image11 = easygui.fileopenbox()\n",
    "test_image = image.load_img(image11, target_size = (200,200))\n",
    "#test_image = image.img_to_array(test_image)\n",
    "test_image = np.expand_dims(test_image, axis=0)\n",
    "result = classifierLoad.predict(test_image)\n",
    "if result[0][1] == 1:\n",
    "    print(\"NonDemented\")\n",
    "elif result[0][0] == 1:\n",
    "    print(\"MildDemented\")\n",
    "elif result[0][2] == 1:\n",
    "    print(\"VeryMildDementedd\")\n",
    "elif result[0][3] == 1:\n",
    "    print(\"ModerateDemented\")"
   ]
  },
  {
   "cell_type": "code",
   "execution_count": 13,
   "id": "f773d2c7",
   "metadata": {},
   "outputs": [
    {
     "ename": "NameError",
     "evalue": "name 'train_datagen' is not defined",
     "output_type": "error",
     "traceback": [
      "\u001b[1;31m---------------------------------------------------------------------------\u001b[0m",
      "\u001b[1;31mNameError\u001b[0m                                 Traceback (most recent call last)",
      "\u001b[1;32m~\\AppData\\Local\\Temp\\ipykernel_22380\\892975210.py\u001b[0m in \u001b[0;36m<module>\u001b[1;34m\u001b[0m\n\u001b[1;32m----> 1\u001b[1;33m test_dataset  = train_datagen.flow_from_directory(directory = r'C:/Users/SRI DHARSHINI/alzheimerrr/alzheimer/testing',\n\u001b[0m\u001b[0;32m      2\u001b[0m                                                    \u001b[0mtarget_size\u001b[0m \u001b[1;33m=\u001b[0m \u001b[1;33m(\u001b[0m\u001b[1;36m224\u001b[0m\u001b[1;33m,\u001b[0m\u001b[1;36m224\u001b[0m\u001b[1;33m)\u001b[0m\u001b[1;33m,\u001b[0m\u001b[1;33m\u001b[0m\u001b[1;33m\u001b[0m\u001b[0m\n\u001b[0;32m      3\u001b[0m                                                    \u001b[0mclass_mode\u001b[0m \u001b[1;33m=\u001b[0m \u001b[1;34m'categorical'\u001b[0m\u001b[1;33m,\u001b[0m\u001b[1;33m\u001b[0m\u001b[1;33m\u001b[0m\u001b[0m\n\u001b[0;32m      4\u001b[0m                                                    \u001b[0msubset\u001b[0m \u001b[1;33m=\u001b[0m \u001b[1;34m'testing'\u001b[0m\u001b[1;33m,\u001b[0m\u001b[1;33m\u001b[0m\u001b[1;33m\u001b[0m\u001b[0m\n\u001b[0;32m      5\u001b[0m                                                    batch_size = 128)\n",
      "\u001b[1;31mNameError\u001b[0m: name 'train_datagen' is not defined"
     ]
    }
   ],
   "source": [
    "test_dataset  = train_datagen.flow_from_directory(directory = r'C:/Users/SRI DHARSHINI/alzheimerrr/alzheimer/testing',\n",
    "                                                   target_size = (224,224),\n",
    "                                                   class_mode = 'categorical',\n",
    "                                                   subset = 'testing',\n",
    "                                                   batch_size = 128)"
   ]
  },
  {
   "cell_type": "code",
   "execution_count": null,
   "id": "9c87bd0a",
   "metadata": {},
   "outputs": [],
   "source": []
  }
 ],
 "metadata": {
  "kernelspec": {
   "display_name": "Python 3 (ipykernel)",
   "language": "python",
   "name": "python3"
  },
  "language_info": {
   "codemirror_mode": {
    "name": "ipython",
    "version": 3
   },
   "file_extension": ".py",
   "mimetype": "text/x-python",
   "name": "python",
   "nbconvert_exporter": "python",
   "pygments_lexer": "ipython3",
   "version": "3.9.13"
  }
 },
 "nbformat": 4,
 "nbformat_minor": 5
}
